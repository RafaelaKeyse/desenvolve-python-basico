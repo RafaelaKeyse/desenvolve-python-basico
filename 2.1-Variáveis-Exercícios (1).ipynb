{
 "cells": [
  {
   "cell_type": "markdown",
   "id": "a9d28135",
   "metadata": {},
   "source": [
    "# Módulo 2\n",
    "## 2.1 Variáveis\n",
    "\n",
    "### Q1. \n",
    "Selecione todos os itens a seguir que contém nomes válidos de variáveis. Lembre-se que alguns nomes com estrutura válida são palavras reservadas da linguagem e portanto não podem nomear variáveis.\n",
    "\n",
    "    a) nome_completo \n",
    "    b) quantidade@produtos\t\n",
    "    c) idade\t\n",
    "    d) soma idades \n",
    "    e) MediaNotas\n",
    "    f) _tipo\n",
    "    g) 2total\n",
    "    h) lambda"
   ]
  },
  {
   "cell_type": "code",
   "execution_count": 1,
   "id": "23ab7106",
   "metadata": {},
   "outputs": [
    {
     "name": "stdout",
     "output_type": "stream",
     "text": [
      "a c e f\n"
     ]
    }
   ],
   "source": [
    "# Preencha o print com as alternativas corretas\n",
    "# separadas por espaços em branco.\n",
    "# Ex: print(\"a b c\")\n",
    "print(\"a c e f\")\n"
   ]
  },
  {
   "cell_type": "markdown",
   "id": "f56d2b28",
   "metadata": {},
   "source": [
    "---\n",
    "### Q2. \n",
    "Dados os scripts a seguir, faça: \n",
    "- Para os scripts corretos escreva o resultado impresso ao final da execução\n",
    "- Para os incorretos descreva todos os erros identificados apontando a linha onde cada erro acontece.\n"
   ]
  },
  {
   "cell_type": "markdown",
   "id": "a2f2461b",
   "metadata": {},
   "source": [
    "```python\n",
    "# Script 1\n",
    "x = 10\n",
    "y = x + 2\n",
    "print(y - 5)\n",
    "```"
   ]
  },
  {
   "cell_type": "code",
   "execution_count": 2,
   "id": "4371ac7b",
   "metadata": {},
   "outputs": [
    {
     "name": "stdout",
     "output_type": "stream",
     "text": [
      "7\n"
     ]
    }
   ],
   "source": [
    "# preencha o print com sua resposta\n",
    "print(\"7\")\n"
   ]
  },
  {
   "cell_type": "markdown",
   "id": "b38baa9c",
   "metadata": {},
   "source": [
    "```python\n",
    "# Script 2\n",
    "soma = n1 + n2\n",
    "print(soma) \n",
    "```"
   ]
  },
  {
   "cell_type": "code",
   "execution_count": 6,
   "id": "82b5064b",
   "metadata": {},
   "outputs": [
    {
     "name": "stdout",
     "output_type": "stream",
     "text": [
      "NameError na linha 1: 'n1' e 'n2' não foram definidos\n"
     ]
    }
   ],
   "source": [
    "# preencha o print com sua resposta\n",
    "# Script 2 está incorreto.\n",
    "# Erro na linha 1: NameError: name 'n1' is not defined\n",
    "# As variáveis n1 e n2 precisam ser definidas antes de serem usadas.\n",
    "print(\"NameError na linha 1: 'n1' e 'n2' não foram definidos\")"
   ]
  },
  {
   "cell_type": "markdown",
   "id": "c2f3ab7a",
   "metadata": {},
   "source": [
    "```python\n",
    "# Script 3\n",
    "a = 10\n",
    "a = a + 1\n",
    "print(a)\n",
    "```"
   ]
  },
  {
   "cell_type": "code",
   "execution_count": 4,
   "id": "7b9db0c7",
   "metadata": {},
   "outputs": [
    {
     "name": "stdout",
     "output_type": "stream",
     "text": [
      "11\n"
     ]
    }
   ],
   "source": [
    "# preencha o print com sua resposta\n",
    "print(\"11\")"
   ]
  },
  {
   "cell_type": "markdown",
   "id": "dd40d2c9",
   "metadata": {},
   "source": [
    "```python\n",
    "# Script 4\n",
    "saldo da conta = 1500\n",
    "0.1 = juros\n",
    "print(saldo da conta * juros)\n",
    "```"
   ]
  },
  {
   "cell_type": "code",
   "execution_count": 5,
   "id": "2dec64ac",
   "metadata": {},
   "outputs": [
    {
     "name": "stdout",
     "output_type": "stream",
     "text": [
      "Erros nas linhas 1, 2 e 3: nomes inválidos e atribuição incorreta\n"
     ]
    }
   ],
   "source": [
    "# preencha o print com sua resposta\n",
    "# Script 4 está incorreto.\n",
    "# Linha 1: Erro de sintaxe — variáveis não podem conter espaços ('saldo da conta')\n",
    "# Linha 2: Erro de sintaxe — não se pode atribuir valor a um número ('0.1 = juros')\n",
    "# Linha 3: Erro de sintaxe — uso de nome de variável com espaços novamente\n",
    "\n",
    "print(\"Erros nas linhas 1, 2 e 3: nomes inválidos e atribuição incorreta\")"
   ]
  },
  {
   "cell_type": "markdown",
   "id": "9ba1f2a8",
   "metadata": {},
   "source": [
    "---\n",
    "### Q3.\n",
    "Declare três variáveis, `num1`, `num2` e `num3`, com valores inteiros numéricos de sua escolha. Calcule e imprima a média desses três números. Utilize a fórmula: `(num1 + num2 + num3) / 3`."
   ]
  },
  {
   "cell_type": "code",
   "execution_count": 7,
   "id": "e1963351",
   "metadata": {},
   "outputs": [
    {
     "name": "stdout",
     "output_type": "stream",
     "text": [
      "A média é: 8.0\n"
     ]
    }
   ],
   "source": [
    "## Escreva e execute seu código aqui\n",
    "# Declarando as variáveis\n",
    "num1 = 8\n",
    "num2 = 6\n",
    "num3 = 10\n",
    "\n",
    "# Calculando a média\n",
    "media = (num1 + num2 + num3) / 3\n",
    "\n",
    "# Imprimindo o resultado\n",
    "print(\"A média é:\", media)"
   ]
  },
  {
   "cell_type": "markdown",
   "id": "7940ba20",
   "metadata": {},
   "source": [
    "--- \n",
    "### Q4.\n",
    "Escreva um script python que:\n",
    "- Armazene em uma variável uma velocidade de 90 km/h\n",
    "- Calcule e armazene o equivalente em m/s\n",
    "    - Divida o valor original por 3.6 para obter o resultado em m/s. Em python a sintaxe da divisão e atribuição é c = a / b \n",
    "- Imprima na tela a velocidade o resultado m/s\n"
   ]
  },
  {
   "cell_type": "code",
   "execution_count": 8,
   "id": "dd4fe7ae",
   "metadata": {},
   "outputs": [
    {
     "name": "stdout",
     "output_type": "stream",
     "text": [
      "Velocidade em m/s: 25.0\n"
     ]
    }
   ],
   "source": [
    "## Escreva e execute seu código aqui\n",
    "# Armazenar a velocidade em km/h\n",
    "velocidade_kmh = 90\n",
    "\n",
    "# Converter para metros por segundo (m/s)\n",
    "velocidade_ms = velocidade_kmh / 3.6\n",
    "\n",
    "# Imprimir o resultado\n",
    "print(\"Velocidade em m/s:\", velocidade_ms)"
   ]
  },
  {
   "cell_type": "markdown",
   "id": "cc714a42",
   "metadata": {},
   "source": [
    "---\n",
    "### Q5.\n",
    "Escreva um script python que:\n",
    "- Armazene o seu nome em uma variável\n",
    "    - Dica: para armazenar textos em variáveis basta colocar a palavra desejada entre aspas, ex: \"Camila\", à direita do operador de atribuição.\n",
    "- Imprima o texto \"Meu nome é:\"\n",
    "- Imprima a variável com seu nome\n"
   ]
  },
  {
   "cell_type": "code",
   "execution_count": 9,
   "id": "10a6a794",
   "metadata": {},
   "outputs": [
    {
     "name": "stdout",
     "output_type": "stream",
     "text": [
      "Meu nome é:\n",
      "Rafaela Keyse Silva Martins\n"
     ]
    }
   ],
   "source": [
    "## Escreva e execute seu código aqui\n",
    "# Armazenar o nome\n",
    "nome = \"Rafaela Keyse Silva Martins\"\n",
    "\n",
    "# Imprimir as mensagens\n",
    "print(\"Meu nome é:\")\n",
    "print(nome)"
   ]
  },
  {
   "cell_type": "code",
   "execution_count": null,
   "id": "38361b84-b3e9-46e3-9505-58de791b3afc",
   "metadata": {},
   "outputs": [],
   "source": []
  }
 ],
 "metadata": {
  "kernelspec": {
   "display_name": "Python 3 (ipykernel)",
   "language": "python",
   "name": "python3"
  },
  "language_info": {
   "codemirror_mode": {
    "name": "ipython",
    "version": 3
   },
   "file_extension": ".py",
   "mimetype": "text/x-python",
   "name": "python",
   "nbconvert_exporter": "python",
   "pygments_lexer": "ipython3",
   "version": "3.13.5"
  }
 },
 "nbformat": 4,
 "nbformat_minor": 5
}
