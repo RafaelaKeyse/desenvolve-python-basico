{
 "cells": [
  {
   "cell_type": "code",
   "execution_count": null,
   "id": "46c5eeb7-6647-4ba4-885e-d22dbb978f5b",
   "metadata": {},
   "outputs": [
    {
     "data": {
      "text/html": [
       "<pre style=\"white-space:pre;overflow-x:auto;line-height:normal;font-family:Menlo,'DejaVu Sans Mono',consolas,'Courier New',monospace\"><span style=\"color: #008000; text-decoration-color: #008000\">Arquivo usuarios.txt criado com dados iniciais.</span>\n",
       "</pre>\n"
      ],
      "text/plain": [
       "\u001b[32mArquivo usuarios.txt criado com dados iniciais.\u001b[0m\n"
      ]
     },
     "metadata": {},
     "output_type": "display_data"
    },
    {
     "data": {
      "text/html": [
       "<pre style=\"white-space:pre;overflow-x:auto;line-height:normal;font-family:Menlo,'DejaVu Sans Mono',consolas,'Courier New',monospace\"><span style=\"color: #008000; text-decoration-color: #008000\">Arquivo servicos.txt criado com dados iniciais.</span>\n",
       "</pre>\n"
      ],
      "text/plain": [
       "\u001b[32mArquivo servicos.txt criado com dados iniciais.\u001b[0m\n"
      ]
     },
     "metadata": {},
     "output_type": "display_data"
    },
    {
     "data": {
      "text/html": [
       "<pre style=\"white-space:pre;overflow-x:auto;line-height:normal;font-family:Menlo,'DejaVu Sans Mono',consolas,'Courier New',monospace\">╭──────────────────────────────╮\n",
       "│ Reparar Fogão - Menu Inicial │\n",
       "╰──────────────────────────────╯\n",
       "</pre>\n"
      ],
      "text/plain": [
       "╭──────────────────────────────╮\n",
       "│ Reparar Fogão - Menu Inicial │\n",
       "╰──────────────────────────────╯\n"
      ]
     },
     "metadata": {},
     "output_type": "display_data"
    },
    {
     "data": {
      "text/html": [
       "<pre style=\"white-space:pre;overflow-x:auto;line-height:normal;font-family:Menlo,'DejaVu Sans Mono',consolas,'Courier New',monospace\"><span style=\"color: #008080; text-decoration-color: #008080; font-weight: bold\">1</span>. Login\n",
       "</pre>\n"
      ],
      "text/plain": [
       "\u001b[1;36m1\u001b[0m. Login\n"
      ]
     },
     "metadata": {},
     "output_type": "display_data"
    },
    {
     "data": {
      "text/html": [
       "<pre style=\"white-space:pre;overflow-x:auto;line-height:normal;font-family:Menlo,'DejaVu Sans Mono',consolas,'Courier New',monospace\"><span style=\"color: #008080; text-decoration-color: #008080; font-weight: bold\">2</span>. Cadastro <span style=\"font-weight: bold\">(</span>somente técnico<span style=\"font-weight: bold\">)</span>\n",
       "</pre>\n"
      ],
      "text/plain": [
       "\u001b[1;36m2\u001b[0m. Cadastro \u001b[1m(\u001b[0msomente técnico\u001b[1m)\u001b[0m\n"
      ]
     },
     "metadata": {},
     "output_type": "display_data"
    },
    {
     "data": {
      "text/html": [
       "<pre style=\"white-space:pre;overflow-x:auto;line-height:normal;font-family:Menlo,'DejaVu Sans Mono',consolas,'Courier New',monospace\"><span style=\"color: #008080; text-decoration-color: #008080; font-weight: bold\">3</span>. Sair\n",
       "</pre>\n"
      ],
      "text/plain": [
       "\u001b[1;36m3\u001b[0m. Sair\n"
      ]
     },
     "metadata": {},
     "output_type": "display_data"
    },
    {
     "data": {
      "text/html": [
       "<pre style=\"white-space:pre;overflow-x:auto;line-height:normal;font-family:Menlo,'DejaVu Sans Mono',consolas,'Courier New',monospace\">Escolha <span style=\"color: #800080; text-decoration-color: #800080; font-weight: bold\">[1/2/3]</span>: </pre>\n"
      ],
      "text/plain": [
       "Escolha \u001b[1;35m[1/2/3]\u001b[0m: "
      ]
     },
     "metadata": {},
     "output_type": "display_data"
    },
    {
     "name": "stdin",
     "output_type": "stream",
     "text": [
      " 1\n"
     ]
    },
    {
     "data": {
      "text/html": [
       "<pre style=\"white-space:pre;overflow-x:auto;line-height:normal;font-family:Menlo,'DejaVu Sans Mono',consolas,'Courier New',monospace\">╭─────────────────────────╮\n",
       "│ <span style=\"color: #008000; text-decoration-color: #008000; font-weight: bold\">Login</span>                   │\n",
       "│ Insira suas credenciais │\n",
       "╰─────────────────────────╯\n",
       "</pre>\n"
      ],
      "text/plain": [
       "╭─────────────────────────╮\n",
       "│ \u001b[1;32mLogin\u001b[0m                   │\n",
       "│ Insira suas credenciais │\n",
       "╰─────────────────────────╯\n"
      ]
     },
     "metadata": {},
     "output_type": "display_data"
    },
    {
     "data": {
      "text/html": [
       "<pre style=\"white-space:pre;overflow-x:auto;line-height:normal;font-family:Menlo,'DejaVu Sans Mono',consolas,'Courier New',monospace\">Login: </pre>\n"
      ],
      "text/plain": [
       "Login: "
      ]
     },
     "metadata": {},
     "output_type": "display_data"
    },
    {
     "name": "stdin",
     "output_type": "stream",
     "text": [
      " admin\n",
      "Senha:  ········\n"
     ]
    },
    {
     "data": {
      "text/html": [
       "<pre style=\"white-space:pre;overflow-x:auto;line-height:normal;font-family:Menlo,'DejaVu Sans Mono',consolas,'Courier New',monospace\"><span style=\"color: #008000; text-decoration-color: #008000\">Login realizado com sucesso! Bem-</span><span style=\"color: #008000; text-decoration-color: #008000; font-weight: bold\">vindo(</span><span style=\"color: #008000; text-decoration-color: #008000\">a</span><span style=\"color: #008000; text-decoration-color: #008000; font-weight: bold\">)</span><span style=\"color: #008000; text-decoration-color: #008000\">, admin </span><span style=\"color: #008000; text-decoration-color: #008000; font-weight: bold\">(</span><span style=\"color: #008000; text-decoration-color: #008000\">admin</span><span style=\"color: #008000; text-decoration-color: #008000; font-weight: bold\">)</span>\n",
       "</pre>\n"
      ],
      "text/plain": [
       "\u001b[32mLogin realizado com sucesso! Bem-\u001b[0m\u001b[1;32mvindo\u001b[0m\u001b[1;32m(\u001b[0m\u001b[32ma\u001b[0m\u001b[1;32m)\u001b[0m\u001b[32m, admin \u001b[0m\u001b[1;32m(\u001b[0m\u001b[32madmin\u001b[0m\u001b[1;32m)\u001b[0m\n"
      ]
     },
     "metadata": {},
     "output_type": "display_data"
    },
    {
     "data": {
      "text/html": [
       "<pre style=\"white-space:pre;overflow-x:auto;line-height:normal;font-family:Menlo,'DejaVu Sans Mono',consolas,'Courier New',monospace\">╭─────────────────────────────────────╮\n",
       "│ Bem-vindo ao sistema Reparar Fogão! │\n",
       "│ Usuário: admin (admin)              │\n",
       "╰─────────────────────────────────────╯\n",
       "</pre>\n"
      ],
      "text/plain": [
       "╭─────────────────────────────────────╮\n",
       "│ Bem-vindo ao sistema Reparar Fogão! │\n",
       "│ Usuário: admin (admin)              │\n",
       "╰─────────────────────────────────────╯\n"
      ]
     },
     "metadata": {},
     "output_type": "display_data"
    },
    {
     "data": {
      "text/html": [
       "<pre style=\"white-space:pre;overflow-x:auto;line-height:normal;font-family:Menlo,'DejaVu Sans Mono',consolas,'Courier New',monospace\"><span style=\"color: #008080; text-decoration-color: #008080; font-weight: bold\">1</span>. Atualizar senha\n",
       "</pre>\n"
      ],
      "text/plain": [
       "\u001b[1;36m1\u001b[0m. Atualizar senha\n"
      ]
     },
     "metadata": {},
     "output_type": "display_data"
    },
    {
     "data": {
      "text/html": [
       "<pre style=\"white-space:pre;overflow-x:auto;line-height:normal;font-family:Menlo,'DejaVu Sans Mono',consolas,'Courier New',monospace\"><span style=\"color: #008080; text-decoration-color: #008080; font-weight: bold\">2</span>. Gerenciar serviços\n",
       "</pre>\n"
      ],
      "text/plain": [
       "\u001b[1;36m2\u001b[0m. Gerenciar serviços\n"
      ]
     },
     "metadata": {},
     "output_type": "display_data"
    },
    {
     "data": {
      "text/html": [
       "<pre style=\"white-space:pre;overflow-x:auto;line-height:normal;font-family:Menlo,'DejaVu Sans Mono',consolas,'Courier New',monospace\"><span style=\"color: #008080; text-decoration-color: #008080; font-weight: bold\">3</span>. Gerenciar usuários\n",
       "</pre>\n"
      ],
      "text/plain": [
       "\u001b[1;36m3\u001b[0m. Gerenciar usuários\n"
      ]
     },
     "metadata": {},
     "output_type": "display_data"
    },
    {
     "data": {
      "text/html": [
       "<pre style=\"white-space:pre;overflow-x:auto;line-height:normal;font-family:Menlo,'DejaVu Sans Mono',consolas,'Courier New',monospace\"><span style=\"color: #008080; text-decoration-color: #008080; font-weight: bold\">0</span>. Logout\n",
       "</pre>\n"
      ],
      "text/plain": [
       "\u001b[1;36m0\u001b[0m. Logout\n"
      ]
     },
     "metadata": {},
     "output_type": "display_data"
    },
    {
     "data": {
      "text/html": [
       "<pre style=\"white-space:pre;overflow-x:auto;line-height:normal;font-family:Menlo,'DejaVu Sans Mono',consolas,'Courier New',monospace\">Escolha <span style=\"color: #800080; text-decoration-color: #800080; font-weight: bold\">[0/1/2/3]</span>: </pre>\n"
      ],
      "text/plain": [
       "Escolha \u001b[1;35m[0/1/2/3]\u001b[0m: "
      ]
     },
     "metadata": {},
     "output_type": "display_data"
    },
    {
     "name": "stdin",
     "output_type": "stream",
     "text": [
      " 2\n"
     ]
    },
    {
     "data": {
      "text/html": [
       "<pre style=\"white-space:pre;overflow-x:auto;line-height:normal;font-family:Menlo,'DejaVu Sans Mono',consolas,'Courier New',monospace\">╭──────────────────╮\n",
       "│ Menu de Serviços │\n",
       "╰──────────────────╯\n",
       "</pre>\n"
      ],
      "text/plain": [
       "╭──────────────────╮\n",
       "│ Menu de Serviços │\n",
       "╰──────────────────╯\n"
      ]
     },
     "metadata": {},
     "output_type": "display_data"
    },
    {
     "data": {
      "text/html": [
       "<pre style=\"white-space:pre;overflow-x:auto;line-height:normal;font-family:Menlo,'DejaVu Sans Mono',consolas,'Courier New',monospace\"><span style=\"color: #008080; text-decoration-color: #008080; font-weight: bold\">1</span>. Listar todos os serviços\n",
       "</pre>\n"
      ],
      "text/plain": [
       "\u001b[1;36m1\u001b[0m. Listar todos os serviços\n"
      ]
     },
     "metadata": {},
     "output_type": "display_data"
    },
    {
     "data": {
      "text/html": [
       "<pre style=\"white-space:pre;overflow-x:auto;line-height:normal;font-family:Menlo,'DejaVu Sans Mono',consolas,'Courier New',monospace\"><span style=\"color: #008080; text-decoration-color: #008080; font-weight: bold\">2</span>. Buscar serviço por nome\n",
       "</pre>\n"
      ],
      "text/plain": [
       "\u001b[1;36m2\u001b[0m. Buscar serviço por nome\n"
      ]
     },
     "metadata": {},
     "output_type": "display_data"
    },
    {
     "data": {
      "text/html": [
       "<pre style=\"white-space:pre;overflow-x:auto;line-height:normal;font-family:Menlo,'DejaVu Sans Mono',consolas,'Courier New',monospace\"><span style=\"color: #008080; text-decoration-color: #008080; font-weight: bold\">3</span>. Cadastrar novo serviço\n",
       "</pre>\n"
      ],
      "text/plain": [
       "\u001b[1;36m3\u001b[0m. Cadastrar novo serviço\n"
      ]
     },
     "metadata": {},
     "output_type": "display_data"
    },
    {
     "data": {
      "text/html": [
       "<pre style=\"white-space:pre;overflow-x:auto;line-height:normal;font-family:Menlo,'DejaVu Sans Mono',consolas,'Courier New',monospace\"><span style=\"color: #008080; text-decoration-color: #008080; font-weight: bold\">4</span>. Editar serviço\n",
       "</pre>\n"
      ],
      "text/plain": [
       "\u001b[1;36m4\u001b[0m. Editar serviço\n"
      ]
     },
     "metadata": {},
     "output_type": "display_data"
    },
    {
     "data": {
      "text/html": [
       "<pre style=\"white-space:pre;overflow-x:auto;line-height:normal;font-family:Menlo,'DejaVu Sans Mono',consolas,'Courier New',monospace\"><span style=\"color: #008080; text-decoration-color: #008080; font-weight: bold\">5</span>. Remover serviço\n",
       "</pre>\n"
      ],
      "text/plain": [
       "\u001b[1;36m5\u001b[0m. Remover serviço\n"
      ]
     },
     "metadata": {},
     "output_type": "display_data"
    },
    {
     "data": {
      "text/html": [
       "<pre style=\"white-space:pre;overflow-x:auto;line-height:normal;font-family:Menlo,'DejaVu Sans Mono',consolas,'Courier New',monospace\"><span style=\"color: #008080; text-decoration-color: #008080; font-weight: bold\">6</span>. Listar serviços ordenados por nome\n",
       "</pre>\n"
      ],
      "text/plain": [
       "\u001b[1;36m6\u001b[0m. Listar serviços ordenados por nome\n"
      ]
     },
     "metadata": {},
     "output_type": "display_data"
    },
    {
     "data": {
      "text/html": [
       "<pre style=\"white-space:pre;overflow-x:auto;line-height:normal;font-family:Menlo,'DejaVu Sans Mono',consolas,'Courier New',monospace\"><span style=\"color: #008080; text-decoration-color: #008080; font-weight: bold\">7</span>. Listar serviços ordenados por preço\n",
       "</pre>\n"
      ],
      "text/plain": [
       "\u001b[1;36m7\u001b[0m. Listar serviços ordenados por preço\n"
      ]
     },
     "metadata": {},
     "output_type": "display_data"
    },
    {
     "data": {
      "text/html": [
       "<pre style=\"white-space:pre;overflow-x:auto;line-height:normal;font-family:Menlo,'DejaVu Sans Mono',consolas,'Courier New',monospace\"><span style=\"color: #008080; text-decoration-color: #008080; font-weight: bold\">0</span>. Voltar\n",
       "</pre>\n"
      ],
      "text/plain": [
       "\u001b[1;36m0\u001b[0m. Voltar\n"
      ]
     },
     "metadata": {},
     "output_type": "display_data"
    },
    {
     "data": {
      "text/html": [
       "<pre style=\"white-space:pre;overflow-x:auto;line-height:normal;font-family:Menlo,'DejaVu Sans Mono',consolas,'Courier New',monospace\">Escolha <span style=\"color: #800080; text-decoration-color: #800080; font-weight: bold\">[0/1/2/3/4/5/6/7]</span>: </pre>\n"
      ],
      "text/plain": [
       "Escolha \u001b[1;35m[0/1/2/3/4/5/6/7]\u001b[0m: "
      ]
     },
     "metadata": {},
     "output_type": "display_data"
    },
    {
     "name": "stdin",
     "output_type": "stream",
     "text": [
      " 1\n"
     ]
    },
    {
     "data": {
      "text/html": [
       "<pre style=\"white-space:pre;overflow-x:auto;line-height:normal;font-family:Menlo,'DejaVu Sans Mono',consolas,'Courier New',monospace\">╭───────────────────╮\n",
       "│ Lista de Serviços │\n",
       "╰───────────────────╯\n",
       "</pre>\n"
      ],
      "text/plain": [
       "╭───────────────────╮\n",
       "│ Lista de Serviços │\n",
       "╰───────────────────╯\n"
      ]
     },
     "metadata": {},
     "output_type": "display_data"
    },
    {
     "data": {
      "text/html": [
       "<pre style=\"white-space:pre;overflow-x:auto;line-height:normal;font-family:Menlo,'DejaVu Sans Mono',consolas,'Courier New',monospace\"><span style=\"color: #008080; text-decoration-color: #008080; font-weight: bold\">1</span> - Troca de vela | R$<span style=\"color: #008080; text-decoration-color: #008080; font-weight: bold\">50.00</span> | Quantidade: <span style=\"color: #008080; text-decoration-color: #008080; font-weight: bold\">10</span>\n",
       "</pre>\n"
      ],
      "text/plain": [
       "\u001b[1;36m1\u001b[0m - Troca de vela | R$\u001b[1;36m50.00\u001b[0m | Quantidade: \u001b[1;36m10\u001b[0m\n"
      ]
     },
     "metadata": {},
     "output_type": "display_data"
    },
    {
     "data": {
      "text/html": [
       "<pre style=\"white-space:pre;overflow-x:auto;line-height:normal;font-family:Menlo,'DejaVu Sans Mono',consolas,'Courier New',monospace\"><span style=\"color: #008080; text-decoration-color: #008080; font-weight: bold\">2</span> - Limpeza de queimador | R$<span style=\"color: #008080; text-decoration-color: #008080; font-weight: bold\">80.00</span> | Quantidade: <span style=\"color: #008080; text-decoration-color: #008080; font-weight: bold\">5</span>\n",
       "</pre>\n"
      ],
      "text/plain": [
       "\u001b[1;36m2\u001b[0m - Limpeza de queimador | R$\u001b[1;36m80.00\u001b[0m | Quantidade: \u001b[1;36m5\u001b[0m\n"
      ]
     },
     "metadata": {},
     "output_type": "display_data"
    },
    {
     "data": {
      "text/html": [
       "<pre style=\"white-space:pre;overflow-x:auto;line-height:normal;font-family:Menlo,'DejaVu Sans Mono',consolas,'Courier New',monospace\"><span style=\"color: #008080; text-decoration-color: #008080; font-weight: bold\">3</span> - Conserto de válvula | R$<span style=\"color: #008080; text-decoration-color: #008080; font-weight: bold\">100.00</span> | Quantidade: <span style=\"color: #008080; text-decoration-color: #008080; font-weight: bold\">7</span>\n",
       "</pre>\n"
      ],
      "text/plain": [
       "\u001b[1;36m3\u001b[0m - Conserto de válvula | R$\u001b[1;36m100.00\u001b[0m | Quantidade: \u001b[1;36m7\u001b[0m\n"
      ]
     },
     "metadata": {},
     "output_type": "display_data"
    },
    {
     "data": {
      "text/html": [
       "<pre style=\"white-space:pre;overflow-x:auto;line-height:normal;font-family:Menlo,'DejaVu Sans Mono',consolas,'Courier New',monospace\"><span style=\"color: #008080; text-decoration-color: #008080; font-weight: bold\">4</span> - Manutenção geral | R$<span style=\"color: #008080; text-decoration-color: #008080; font-weight: bold\">150.00</span> | Quantidade: <span style=\"color: #008080; text-decoration-color: #008080; font-weight: bold\">3</span>\n",
       "</pre>\n"
      ],
      "text/plain": [
       "\u001b[1;36m4\u001b[0m - Manutenção geral | R$\u001b[1;36m150.00\u001b[0m | Quantidade: \u001b[1;36m3\u001b[0m\n"
      ]
     },
     "metadata": {},
     "output_type": "display_data"
    },
    {
     "data": {
      "text/html": [
       "<pre style=\"white-space:pre;overflow-x:auto;line-height:normal;font-family:Menlo,'DejaVu Sans Mono',consolas,'Courier New',monospace\"><span style=\"color: #008080; text-decoration-color: #008080; font-weight: bold\">5</span> - Substituição de termopar | R$<span style=\"color: #008080; text-decoration-color: #008080; font-weight: bold\">60.00</span> | Quantidade: <span style=\"color: #008080; text-decoration-color: #008080; font-weight: bold\">12</span>\n",
       "</pre>\n"
      ],
      "text/plain": [
       "\u001b[1;36m5\u001b[0m - Substituição de termopar | R$\u001b[1;36m60.00\u001b[0m | Quantidade: \u001b[1;36m12\u001b[0m\n"
      ]
     },
     "metadata": {},
     "output_type": "display_data"
    },
    {
     "data": {
      "text/html": [
       "<pre style=\"white-space:pre;overflow-x:auto;line-height:normal;font-family:Menlo,'DejaVu Sans Mono',consolas,'Courier New',monospace\"><span style=\"color: #008080; text-decoration-color: #008080; font-weight: bold\">6</span> - Ajuste do forno | R$<span style=\"color: #008080; text-decoration-color: #008080; font-weight: bold\">70.00</span> | Quantidade: <span style=\"color: #008080; text-decoration-color: #008080; font-weight: bold\">6</span>\n",
       "</pre>\n"
      ],
      "text/plain": [
       "\u001b[1;36m6\u001b[0m - Ajuste do forno | R$\u001b[1;36m70.00\u001b[0m | Quantidade: \u001b[1;36m6\u001b[0m\n"
      ]
     },
     "metadata": {},
     "output_type": "display_data"
    },
    {
     "data": {
      "text/html": [
       "<pre style=\"white-space:pre;overflow-x:auto;line-height:normal;font-family:Menlo,'DejaVu Sans Mono',consolas,'Courier New',monospace\">╭──────────────────╮\n",
       "│ Menu de Serviços │\n",
       "╰──────────────────╯\n",
       "</pre>\n"
      ],
      "text/plain": [
       "╭──────────────────╮\n",
       "│ Menu de Serviços │\n",
       "╰──────────────────╯\n"
      ]
     },
     "metadata": {},
     "output_type": "display_data"
    },
    {
     "data": {
      "text/html": [
       "<pre style=\"white-space:pre;overflow-x:auto;line-height:normal;font-family:Menlo,'DejaVu Sans Mono',consolas,'Courier New',monospace\"><span style=\"color: #008080; text-decoration-color: #008080; font-weight: bold\">1</span>. Listar todos os serviços\n",
       "</pre>\n"
      ],
      "text/plain": [
       "\u001b[1;36m1\u001b[0m. Listar todos os serviços\n"
      ]
     },
     "metadata": {},
     "output_type": "display_data"
    },
    {
     "data": {
      "text/html": [
       "<pre style=\"white-space:pre;overflow-x:auto;line-height:normal;font-family:Menlo,'DejaVu Sans Mono',consolas,'Courier New',monospace\"><span style=\"color: #008080; text-decoration-color: #008080; font-weight: bold\">2</span>. Buscar serviço por nome\n",
       "</pre>\n"
      ],
      "text/plain": [
       "\u001b[1;36m2\u001b[0m. Buscar serviço por nome\n"
      ]
     },
     "metadata": {},
     "output_type": "display_data"
    },
    {
     "data": {
      "text/html": [
       "<pre style=\"white-space:pre;overflow-x:auto;line-height:normal;font-family:Menlo,'DejaVu Sans Mono',consolas,'Courier New',monospace\"><span style=\"color: #008080; text-decoration-color: #008080; font-weight: bold\">3</span>. Cadastrar novo serviço\n",
       "</pre>\n"
      ],
      "text/plain": [
       "\u001b[1;36m3\u001b[0m. Cadastrar novo serviço\n"
      ]
     },
     "metadata": {},
     "output_type": "display_data"
    },
    {
     "data": {
      "text/html": [
       "<pre style=\"white-space:pre;overflow-x:auto;line-height:normal;font-family:Menlo,'DejaVu Sans Mono',consolas,'Courier New',monospace\"><span style=\"color: #008080; text-decoration-color: #008080; font-weight: bold\">4</span>. Editar serviço\n",
       "</pre>\n"
      ],
      "text/plain": [
       "\u001b[1;36m4\u001b[0m. Editar serviço\n"
      ]
     },
     "metadata": {},
     "output_type": "display_data"
    },
    {
     "data": {
      "text/html": [
       "<pre style=\"white-space:pre;overflow-x:auto;line-height:normal;font-family:Menlo,'DejaVu Sans Mono',consolas,'Courier New',monospace\"><span style=\"color: #008080; text-decoration-color: #008080; font-weight: bold\">5</span>. Remover serviço\n",
       "</pre>\n"
      ],
      "text/plain": [
       "\u001b[1;36m5\u001b[0m. Remover serviço\n"
      ]
     },
     "metadata": {},
     "output_type": "display_data"
    },
    {
     "data": {
      "text/html": [
       "<pre style=\"white-space:pre;overflow-x:auto;line-height:normal;font-family:Menlo,'DejaVu Sans Mono',consolas,'Courier New',monospace\"><span style=\"color: #008080; text-decoration-color: #008080; font-weight: bold\">6</span>. Listar serviços ordenados por nome\n",
       "</pre>\n"
      ],
      "text/plain": [
       "\u001b[1;36m6\u001b[0m. Listar serviços ordenados por nome\n"
      ]
     },
     "metadata": {},
     "output_type": "display_data"
    },
    {
     "data": {
      "text/html": [
       "<pre style=\"white-space:pre;overflow-x:auto;line-height:normal;font-family:Menlo,'DejaVu Sans Mono',consolas,'Courier New',monospace\"><span style=\"color: #008080; text-decoration-color: #008080; font-weight: bold\">7</span>. Listar serviços ordenados por preço\n",
       "</pre>\n"
      ],
      "text/plain": [
       "\u001b[1;36m7\u001b[0m. Listar serviços ordenados por preço\n"
      ]
     },
     "metadata": {},
     "output_type": "display_data"
    },
    {
     "data": {
      "text/html": [
       "<pre style=\"white-space:pre;overflow-x:auto;line-height:normal;font-family:Menlo,'DejaVu Sans Mono',consolas,'Courier New',monospace\"><span style=\"color: #008080; text-decoration-color: #008080; font-weight: bold\">0</span>. Voltar\n",
       "</pre>\n"
      ],
      "text/plain": [
       "\u001b[1;36m0\u001b[0m. Voltar\n"
      ]
     },
     "metadata": {},
     "output_type": "display_data"
    },
    {
     "data": {
      "text/html": [
       "<pre style=\"white-space:pre;overflow-x:auto;line-height:normal;font-family:Menlo,'DejaVu Sans Mono',consolas,'Courier New',monospace\">Escolha <span style=\"color: #800080; text-decoration-color: #800080; font-weight: bold\">[0/1/2/3/4/5/6/7]</span>: </pre>\n"
      ],
      "text/plain": [
       "Escolha \u001b[1;35m[0/1/2/3/4/5/6/7]\u001b[0m: "
      ]
     },
     "metadata": {},
     "output_type": "display_data"
    },
    {
     "name": "stdin",
     "output_type": "stream",
     "text": [
      " 6\n"
     ]
    },
    {
     "data": {
      "text/html": [
       "<pre style=\"white-space:pre;overflow-x:auto;line-height:normal;font-family:Menlo,'DejaVu Sans Mono',consolas,'Courier New',monospace\">╭─────────────────────────────╮\n",
       "│ Serviços ordenados por nome │\n",
       "╰─────────────────────────────╯\n",
       "</pre>\n"
      ],
      "text/plain": [
       "╭─────────────────────────────╮\n",
       "│ Serviços ordenados por nome │\n",
       "╰─────────────────────────────╯\n"
      ]
     },
     "metadata": {},
     "output_type": "display_data"
    },
    {
     "data": {
      "text/html": [
       "<pre style=\"white-space:pre;overflow-x:auto;line-height:normal;font-family:Menlo,'DejaVu Sans Mono',consolas,'Courier New',monospace\"><span style=\"color: #008080; text-decoration-color: #008080; font-weight: bold\">6</span> - Ajuste do forno | R$<span style=\"color: #008080; text-decoration-color: #008080; font-weight: bold\">70.00</span> | Quantidade: <span style=\"color: #008080; text-decoration-color: #008080; font-weight: bold\">6</span>\n",
       "</pre>\n"
      ],
      "text/plain": [
       "\u001b[1;36m6\u001b[0m - Ajuste do forno | R$\u001b[1;36m70.00\u001b[0m | Quantidade: \u001b[1;36m6\u001b[0m\n"
      ]
     },
     "metadata": {},
     "output_type": "display_data"
    },
    {
     "data": {
      "text/html": [
       "<pre style=\"white-space:pre;overflow-x:auto;line-height:normal;font-family:Menlo,'DejaVu Sans Mono',consolas,'Courier New',monospace\"><span style=\"color: #008080; text-decoration-color: #008080; font-weight: bold\">3</span> - Conserto de válvula | R$<span style=\"color: #008080; text-decoration-color: #008080; font-weight: bold\">100.00</span> | Quantidade: <span style=\"color: #008080; text-decoration-color: #008080; font-weight: bold\">7</span>\n",
       "</pre>\n"
      ],
      "text/plain": [
       "\u001b[1;36m3\u001b[0m - Conserto de válvula | R$\u001b[1;36m100.00\u001b[0m | Quantidade: \u001b[1;36m7\u001b[0m\n"
      ]
     },
     "metadata": {},
     "output_type": "display_data"
    },
    {
     "data": {
      "text/html": [
       "<pre style=\"white-space:pre;overflow-x:auto;line-height:normal;font-family:Menlo,'DejaVu Sans Mono',consolas,'Courier New',monospace\"><span style=\"color: #008080; text-decoration-color: #008080; font-weight: bold\">2</span> - Limpeza de queimador | R$<span style=\"color: #008080; text-decoration-color: #008080; font-weight: bold\">80.00</span> | Quantidade: <span style=\"color: #008080; text-decoration-color: #008080; font-weight: bold\">5</span>\n",
       "</pre>\n"
      ],
      "text/plain": [
       "\u001b[1;36m2\u001b[0m - Limpeza de queimador | R$\u001b[1;36m80.00\u001b[0m | Quantidade: \u001b[1;36m5\u001b[0m\n"
      ]
     },
     "metadata": {},
     "output_type": "display_data"
    },
    {
     "data": {
      "text/html": [
       "<pre style=\"white-space:pre;overflow-x:auto;line-height:normal;font-family:Menlo,'DejaVu Sans Mono',consolas,'Courier New',monospace\"><span style=\"color: #008080; text-decoration-color: #008080; font-weight: bold\">4</span> - Manutenção geral | R$<span style=\"color: #008080; text-decoration-color: #008080; font-weight: bold\">150.00</span> | Quantidade: <span style=\"color: #008080; text-decoration-color: #008080; font-weight: bold\">3</span>\n",
       "</pre>\n"
      ],
      "text/plain": [
       "\u001b[1;36m4\u001b[0m - Manutenção geral | R$\u001b[1;36m150.00\u001b[0m | Quantidade: \u001b[1;36m3\u001b[0m\n"
      ]
     },
     "metadata": {},
     "output_type": "display_data"
    },
    {
     "data": {
      "text/html": [
       "<pre style=\"white-space:pre;overflow-x:auto;line-height:normal;font-family:Menlo,'DejaVu Sans Mono',consolas,'Courier New',monospace\"><span style=\"color: #008080; text-decoration-color: #008080; font-weight: bold\">5</span> - Substituição de termopar | R$<span style=\"color: #008080; text-decoration-color: #008080; font-weight: bold\">60.00</span> | Quantidade: <span style=\"color: #008080; text-decoration-color: #008080; font-weight: bold\">12</span>\n",
       "</pre>\n"
      ],
      "text/plain": [
       "\u001b[1;36m5\u001b[0m - Substituição de termopar | R$\u001b[1;36m60.00\u001b[0m | Quantidade: \u001b[1;36m12\u001b[0m\n"
      ]
     },
     "metadata": {},
     "output_type": "display_data"
    },
    {
     "data": {
      "text/html": [
       "<pre style=\"white-space:pre;overflow-x:auto;line-height:normal;font-family:Menlo,'DejaVu Sans Mono',consolas,'Courier New',monospace\"><span style=\"color: #008080; text-decoration-color: #008080; font-weight: bold\">1</span> - Troca de vela | R$<span style=\"color: #008080; text-decoration-color: #008080; font-weight: bold\">50.00</span> | Quantidade: <span style=\"color: #008080; text-decoration-color: #008080; font-weight: bold\">10</span>\n",
       "</pre>\n"
      ],
      "text/plain": [
       "\u001b[1;36m1\u001b[0m - Troca de vela | R$\u001b[1;36m50.00\u001b[0m | Quantidade: \u001b[1;36m10\u001b[0m\n"
      ]
     },
     "metadata": {},
     "output_type": "display_data"
    },
    {
     "data": {
      "text/html": [
       "<pre style=\"white-space:pre;overflow-x:auto;line-height:normal;font-family:Menlo,'DejaVu Sans Mono',consolas,'Courier New',monospace\">╭──────────────────╮\n",
       "│ Menu de Serviços │\n",
       "╰──────────────────╯\n",
       "</pre>\n"
      ],
      "text/plain": [
       "╭──────────────────╮\n",
       "│ Menu de Serviços │\n",
       "╰──────────────────╯\n"
      ]
     },
     "metadata": {},
     "output_type": "display_data"
    },
    {
     "data": {
      "text/html": [
       "<pre style=\"white-space:pre;overflow-x:auto;line-height:normal;font-family:Menlo,'DejaVu Sans Mono',consolas,'Courier New',monospace\"><span style=\"color: #008080; text-decoration-color: #008080; font-weight: bold\">1</span>. Listar todos os serviços\n",
       "</pre>\n"
      ],
      "text/plain": [
       "\u001b[1;36m1\u001b[0m. Listar todos os serviços\n"
      ]
     },
     "metadata": {},
     "output_type": "display_data"
    },
    {
     "data": {
      "text/html": [
       "<pre style=\"white-space:pre;overflow-x:auto;line-height:normal;font-family:Menlo,'DejaVu Sans Mono',consolas,'Courier New',monospace\"><span style=\"color: #008080; text-decoration-color: #008080; font-weight: bold\">2</span>. Buscar serviço por nome\n",
       "</pre>\n"
      ],
      "text/plain": [
       "\u001b[1;36m2\u001b[0m. Buscar serviço por nome\n"
      ]
     },
     "metadata": {},
     "output_type": "display_data"
    },
    {
     "data": {
      "text/html": [
       "<pre style=\"white-space:pre;overflow-x:auto;line-height:normal;font-family:Menlo,'DejaVu Sans Mono',consolas,'Courier New',monospace\"><span style=\"color: #008080; text-decoration-color: #008080; font-weight: bold\">3</span>. Cadastrar novo serviço\n",
       "</pre>\n"
      ],
      "text/plain": [
       "\u001b[1;36m3\u001b[0m. Cadastrar novo serviço\n"
      ]
     },
     "metadata": {},
     "output_type": "display_data"
    },
    {
     "data": {
      "text/html": [
       "<pre style=\"white-space:pre;overflow-x:auto;line-height:normal;font-family:Menlo,'DejaVu Sans Mono',consolas,'Courier New',monospace\"><span style=\"color: #008080; text-decoration-color: #008080; font-weight: bold\">4</span>. Editar serviço\n",
       "</pre>\n"
      ],
      "text/plain": [
       "\u001b[1;36m4\u001b[0m. Editar serviço\n"
      ]
     },
     "metadata": {},
     "output_type": "display_data"
    },
    {
     "data": {
      "text/html": [
       "<pre style=\"white-space:pre;overflow-x:auto;line-height:normal;font-family:Menlo,'DejaVu Sans Mono',consolas,'Courier New',monospace\"><span style=\"color: #008080; text-decoration-color: #008080; font-weight: bold\">5</span>. Remover serviço\n",
       "</pre>\n"
      ],
      "text/plain": [
       "\u001b[1;36m5\u001b[0m. Remover serviço\n"
      ]
     },
     "metadata": {},
     "output_type": "display_data"
    },
    {
     "data": {
      "text/html": [
       "<pre style=\"white-space:pre;overflow-x:auto;line-height:normal;font-family:Menlo,'DejaVu Sans Mono',consolas,'Courier New',monospace\"><span style=\"color: #008080; text-decoration-color: #008080; font-weight: bold\">6</span>. Listar serviços ordenados por nome\n",
       "</pre>\n"
      ],
      "text/plain": [
       "\u001b[1;36m6\u001b[0m. Listar serviços ordenados por nome\n"
      ]
     },
     "metadata": {},
     "output_type": "display_data"
    },
    {
     "data": {
      "text/html": [
       "<pre style=\"white-space:pre;overflow-x:auto;line-height:normal;font-family:Menlo,'DejaVu Sans Mono',consolas,'Courier New',monospace\"><span style=\"color: #008080; text-decoration-color: #008080; font-weight: bold\">7</span>. Listar serviços ordenados por preço\n",
       "</pre>\n"
      ],
      "text/plain": [
       "\u001b[1;36m7\u001b[0m. Listar serviços ordenados por preço\n"
      ]
     },
     "metadata": {},
     "output_type": "display_data"
    },
    {
     "data": {
      "text/html": [
       "<pre style=\"white-space:pre;overflow-x:auto;line-height:normal;font-family:Menlo,'DejaVu Sans Mono',consolas,'Courier New',monospace\"><span style=\"color: #008080; text-decoration-color: #008080; font-weight: bold\">0</span>. Voltar\n",
       "</pre>\n"
      ],
      "text/plain": [
       "\u001b[1;36m0\u001b[0m. Voltar\n"
      ]
     },
     "metadata": {},
     "output_type": "display_data"
    },
    {
     "data": {
      "text/html": [
       "<pre style=\"white-space:pre;overflow-x:auto;line-height:normal;font-family:Menlo,'DejaVu Sans Mono',consolas,'Courier New',monospace\">Escolha <span style=\"color: #800080; text-decoration-color: #800080; font-weight: bold\">[0/1/2/3/4/5/6/7]</span>: </pre>\n"
      ],
      "text/plain": [
       "Escolha \u001b[1;35m[0/1/2/3/4/5/6/7]\u001b[0m: "
      ]
     },
     "metadata": {},
     "output_type": "display_data"
    }
   ],
   "source": [
    "import csv\n",
    "from collections import namedtuple\n",
    "from getpass import getpass\n",
    "from rich.console import Console\n",
    "from rich.prompt import Prompt\n",
    "from rich.panel import Panel\n",
    "import os\n",
    "\n",
    "console = Console()\n",
    "\n",
    "ARQ_USUARIOS = 'usuarios.txt'\n",
    "ARQ_SERVICOS = 'servicos.txt'\n",
    "\n",
    "USUARIO_LOGADO = None\n",
    "\n",
    "Usuario = namedtuple('Usuario', ['login', 'senha', 'tipo'])\n",
    "Servico = namedtuple('Servico', ['codigo', 'nome', 'preco', 'quantidade'])\n",
    "\n",
    "############################\n",
    "# Função para criar arquivos com dados iniciais se não existirem\n",
    "def criar_arquivos_iniciais():\n",
    "    if not os.path.exists(ARQ_USUARIOS):\n",
    "        usuarios_iniciais = [\n",
    "            ['admin', 'admin123', 'admin'],\n",
    "            ['tecnico1', 'tec123', 'tecnico'],\n",
    "            ['tecnico2', 'tec234', 'tecnico'],\n",
    "            ['funcionario', 'func123', 'tecnico'],\n",
    "            ['cliente1', 'cli123', 'cliente'],\n",
    "            ['cliente2', 'cli234', 'cliente'],\n",
    "        ]\n",
    "        with open(ARQ_USUARIOS, 'w', newline='') as f:\n",
    "            writer = csv.writer(f)\n",
    "            writer.writerows(usuarios_iniciais)\n",
    "        console.print(\"[green]Arquivo usuarios.txt criado com dados iniciais.[/green]\")\n",
    "\n",
    "    if not os.path.exists(ARQ_SERVICOS):\n",
    "        servicos_iniciais = [\n",
    "            [1, 'Troca de vela', 50.0, 10],\n",
    "            [2, 'Limpeza de queimador', 80.0, 5],\n",
    "            [3, 'Conserto de válvula', 100.0, 7],\n",
    "            [4, 'Manutenção geral', 150.0, 3],\n",
    "            [5, 'Substituição de termopar', 60.0, 12],\n",
    "            [6, 'Ajuste do forno', 70.0, 6],\n",
    "        ]\n",
    "        with open(ARQ_SERVICOS, 'w', newline='') as f:\n",
    "            writer = csv.writer(f)\n",
    "            writer.writerows(servicos_iniciais)\n",
    "        console.print(\"[green]Arquivo servicos.txt criado com dados iniciais.[/green]\")\n",
    "\n",
    "############################\n",
    "# Função para ler usuários do arquivo\n",
    "def ler_usuarios():\n",
    "    usuarios = {}\n",
    "    with open(ARQ_USUARIOS, 'r', newline='') as f:\n",
    "        reader = csv.reader(f)\n",
    "        for login, senha, tipo in reader:\n",
    "            usuarios[login] = Usuario(login, senha, tipo)\n",
    "    return usuarios\n",
    "\n",
    "# Função para salvar usuários em arquivo\n",
    "def salvar_usuarios(usuarios):\n",
    "    with open(ARQ_USUARIOS, 'w', newline='') as f:\n",
    "        writer = csv.writer(f)\n",
    "        for u in usuarios.values():\n",
    "            writer.writerow([u.login, u.senha, u.tipo])\n",
    "\n",
    "############################\n",
    "# Função para ler serviços\n",
    "def ler_servicos():\n",
    "    servicos = []\n",
    "    with open(ARQ_SERVICOS, 'r', newline='') as f:\n",
    "        reader = csv.reader(f)\n",
    "        for codigo, nome, preco, quantidade in reader:\n",
    "            servicos.append(Servico(int(codigo), nome, float(preco), int(quantidade)))\n",
    "    return servicos\n",
    "\n",
    "# Função para salvar serviços\n",
    "def salvar_servicos(servicos):\n",
    "    with open(ARQ_SERVICOS, 'w', newline='') as f:\n",
    "        writer = csv.writer(f)\n",
    "        for s in servicos:\n",
    "            writer.writerow([s.codigo, s.nome, s.preco, s.quantidade])\n",
    "\n",
    "############################\n",
    "# Login\n",
    "def login(usuarios):\n",
    "    global USUARIO_LOGADO\n",
    "    console.print(Panel(\"[bold green]Login[/bold green]\\nInsira suas credenciais\", expand=False))\n",
    "    login = Prompt.ask(\"Login\")\n",
    "    senha = getpass(\"Senha: \")\n",
    "    user = usuarios.get(login)\n",
    "    if user and user.senha == senha:\n",
    "        USUARIO_LOGADO = user\n",
    "        console.print(f\"[green]Login realizado com sucesso! Bem-vindo(a), {user.login} ({user.tipo})[/green]\")\n",
    "        return True\n",
    "    else:\n",
    "        console.print(\"[red]Login ou senha incorretos.[/red]\")\n",
    "        return False\n",
    "\n",
    "############################\n",
    "# Menu principal\n",
    "def menu_principal():\n",
    "    while True:\n",
    "        console.print(Panel(f\"Bem-vindo ao sistema Reparar Fogão!\\nUsuário: {USUARIO_LOGADO.login} ({USUARIO_LOGADO.tipo})\", expand=False))\n",
    "        console.print(\"1. Atualizar senha\")\n",
    "        console.print(\"2. Gerenciar serviços\")\n",
    "        if USUARIO_LOGADO.tipo == 'admin':\n",
    "            console.print(\"3. Gerenciar usuários\")\n",
    "        console.print(\"0. Logout\")\n",
    "\n",
    "        opcoes = ['0','1','2']\n",
    "        if USUARIO_LOGADO.tipo == 'admin':\n",
    "            opcoes.append('3')\n",
    "\n",
    "        escolha = Prompt.ask(\"Escolha\", choices=opcoes)\n",
    "\n",
    "        if escolha == '0':\n",
    "            console.print(\"Logout realizado.\")\n",
    "            break\n",
    "        elif escolha == '1':\n",
    "            atualizar_senha()\n",
    "        elif escolha == '2':\n",
    "            menu_servicos()\n",
    "        elif escolha == '3' and USUARIO_LOGADO.tipo == 'admin':\n",
    "            menu_usuarios()\n",
    "\n",
    "############################\n",
    "# Atualizar senha\n",
    "def atualizar_senha():\n",
    "    global USUARIO_LOGADO\n",
    "    console.print(Panel(\"Atualizar Senha\", expand=False))\n",
    "    nova_senha = getpass(\"Digite a nova senha: \")\n",
    "    usuarios = ler_usuarios()\n",
    "    user = usuarios.get(USUARIO_LOGADO.login)\n",
    "    if user:\n",
    "        usuarios[USUARIO_LOGADO.login] = Usuario(user.login, nova_senha, user.tipo)\n",
    "        salvar_usuarios(usuarios)\n",
    "        USUARIO_LOGADO = usuarios[USUARIO_LOGADO.login]\n",
    "        console.print(\"[green]Senha atualizada com sucesso![/green]\")\n",
    "    else:\n",
    "        console.print(\"[red]Erro ao atualizar senha.[/red]\")\n",
    "\n",
    "############################\n",
    "# Menus e funções para serviços\n",
    "\n",
    "def menu_servicos():\n",
    "    servicos = ler_servicos()\n",
    "    while True:\n",
    "        console.print(Panel(\"Menu de Serviços\", expand=False))\n",
    "        console.print(\"1. Listar todos os serviços\")\n",
    "        console.print(\"2. Buscar serviço por nome\")\n",
    "        if USUARIO_LOGADO.tipo == 'admin':\n",
    "            console.print(\"3. Cadastrar novo serviço\")\n",
    "            console.print(\"4. Editar serviço\")\n",
    "            console.print(\"5. Remover serviço\")\n",
    "            console.print(\"6. Listar serviços ordenados por nome\")\n",
    "            console.print(\"7. Listar serviços ordenados por preço\")\n",
    "            console.print(\"0. Voltar\")\n",
    "            escolha = Prompt.ask(\"Escolha\", choices=[str(i) for i in range(8)])\n",
    "        else:  # tecnico só algumas opções\n",
    "            console.print(\"3. Editar serviço\")\n",
    "            console.print(\"0. Voltar\")\n",
    "            escolha = Prompt.ask(\"Escolha\", choices=[\"0\",\"1\",\"2\",\"3\"])\n",
    "\n",
    "        if escolha == '1':\n",
    "            listar_servicos(servicos)\n",
    "        elif escolha == '2':\n",
    "            buscar_servico(servicos)\n",
    "        elif escolha == '3':\n",
    "            if USUARIO_LOGADO.tipo == 'admin':\n",
    "                cadastrar_servico(servicos)\n",
    "            else:\n",
    "                editar_servico(servicos)\n",
    "        elif escolha == '4' and USUARIO_LOGADO.tipo == 'admin':\n",
    "            editar_servico(servicos)\n",
    "        elif escolha == '5' and USUARIO_LOGADO.tipo == 'admin':\n",
    "            remover_servico(servicos)\n",
    "        elif escolha == '6' and USUARIO_LOGADO.tipo == 'admin':\n",
    "            listar_ordenado_nome(servicos)\n",
    "        elif escolha == '7' and USUARIO_LOGADO.tipo == 'admin':\n",
    "            listar_ordenado_preco(servicos)\n",
    "        elif escolha == '0':\n",
    "            break\n",
    "        else:\n",
    "            console.print(\"[red]Opção inválida![/red]\")\n",
    "\n",
    "def listar_servicos(servicos):\n",
    "    console.print(Panel(\"Lista de Serviços\", expand=False))\n",
    "    for s in servicos:\n",
    "        console.print(f\"{s.codigo} - {s.nome} | R${s.preco:.2f} | Quantidade: {s.quantidade}\")\n",
    "\n",
    "def buscar_servico(servicos):\n",
    "    termo = Prompt.ask(\"Digite o nome ou parte do serviço\")\n",
    "    encontrados = [s for s in servicos if termo.lower() in s.nome.lower()]\n",
    "    if encontrados:\n",
    "        console.print(Panel(f\"Serviços encontrados para '{termo}'\", expand=False))\n",
    "        for s in encontrados:\n",
    "            console.print(f\"{s.codigo} - {s.nome} | R${s.preco:.2f} | Quantidade: {s.quantidade}\")\n",
    "    else:\n",
    "        console.print(f\"[yellow]Nenhum serviço encontrado para '{termo}'[/yellow]\")\n",
    "\n",
    "def cadastrar_servico(servicos):\n",
    "    console.print(Panel(\"Cadastrar Novo Serviço\", expand=False))\n",
    "    try:\n",
    "        codigo = max([s.codigo for s in servicos]) + 1 if servicos else 1\n",
    "    except ValueError:\n",
    "        codigo = 1\n",
    "    nome = Prompt.ask(\"Nome do serviço\")\n",
    "    preco = float(Prompt.ask(\"Preço do serviço\", default=\"0\"))\n",
    "    quantidade = int(Prompt.ask(\"Quantidade disponível\", default=\"0\"))\n",
    "    novo = Servico(codigo, nome, preco, quantidade)\n",
    "    servicos.append(novo)\n",
    "    salvar_servicos(servicos)\n",
    "    console.print(f\"[green]Serviço '{nome}' cadastrado com sucesso![/green]\")\n",
    "\n",
    "def editar_servico(servicos):\n",
    "    console.print(Panel(\"Editar Serviço\", expand=False))\n",
    "    try:\n",
    "        codigo = int(Prompt.ask(\"Código do serviço para editar\"))\n",
    "    except ValueError:\n",
    "        console.print(\"[red]Código inválido[/red]\")\n",
    "        return\n",
    "    for i, s in enumerate(servicos):\n",
    "        if s.codigo == codigo:\n",
    "            nome = Prompt.ask(\"Novo nome\", default=s.nome)\n",
    "            try:\n",
    "                preco = float(Prompt.ask(\"Novo preço\", default=str(s.preco)))\n",
    "                quantidade = int(Prompt.ask(\"Nova quantidade\", default=str(s.quantidade)))\n",
    "            except ValueError:\n",
    "                console.print(\"[red]Preço ou quantidade inválidos[/red]\")\n",
    "                return\n",
    "            servicos[i] = Servico(codigo, nome, preco, quantidade)\n",
    "            salvar_servicos(servicos)\n",
    "            console.print(\"[green]Serviço atualizado com sucesso![/green]\")\n",
    "            return\n",
    "    console.print(\"[yellow]Serviço não encontrado[/yellow]\")\n",
    "\n",
    "def remover_servico(servicos):\n",
    "    console.print(Panel(\"Remover Serviço\", expand=False))\n",
    "    try:\n",
    "        codigo = int(Prompt.ask(\"Código do serviço para remover\"))\n",
    "    except ValueError:\n",
    "        console.print(\"[red]Código inválido[/red]\")\n",
    "        return\n",
    "    for i, s in enumerate(servicos):\n",
    "        if s.codigo == codigo:\n",
    "            servicos.pop(i)\n",
    "            salvar_servicos(servicos)\n",
    "            console.print(f\"[green]Serviço '{s.nome}' removido com sucesso![/green]\")\n",
    "            return\n",
    "    console.print(\"[yellow]Serviço não encontrado[/yellow]\")\n",
    "\n",
    "def listar_ordenado_nome(servicos):\n",
    "    ordenados = sorted(servicos, key=lambda s: s.nome.lower())\n",
    "    console.print(Panel(\"Serviços ordenados por nome\", expand=False))\n",
    "    for s in ordenados:\n",
    "        console.print(f\"{s.codigo} - {s.nome} | R${s.preco:.2f} | Quantidade: {s.quantidade}\")\n",
    "\n",
    "def listar_ordenado_preco(servicos):\n",
    "    ordenados = sorted(servicos, key=lambda s: s.preco)\n",
    "    console.print(Panel(\"Serviços ordenados por preço\", expand=False))\n",
    "    for s in ordenados:\n",
    "        console.print(f\"{s.codigo} - {s.nome} | R${s.preco:.2f} | Quantidade: {s.quantidade}\")\n",
    "\n",
    "############################\n",
    "# Menus e funções para usuários (só admin pode acessar)\n",
    "def menu_usuarios():\n",
    "    usuarios = ler_usuarios()\n",
    "    while True:\n",
    "        console.print(Panel(\"Gerenciar Usuários\", expand=False))\n",
    "        console.print(\"1. Listar usuários\")\n",
    "        console.print(\"2. Buscar usuário por login\")\n",
    "        console.print(\"3. Cadastrar usuário\")\n",
    "        console.print(\"4. Editar usuário\")\n",
    "        console.print(\"5. Remover usuário\")\n",
    "        console.print(\"0. Voltar\")\n",
    "        escolha = Prompt.ask(\"Escolha\", choices=[str(i) for i in range(6)])\n",
    "\n",
    "        if escolha == '1':\n",
    "            listar_usuarios(usuarios)\n",
    "        elif escolha == '2':\n",
    "            buscar_usuario(usuarios)\n",
    "        elif escolha == '3':\n",
    "            usuarios = cadastrar_usuario(usuarios)\n",
    "        elif escolha == '4':\n",
    "            usuarios = editar_usuario(usuarios)\n",
    "        elif escolha == '5':\n",
    "            usuarios = remover_usuario(usuarios)\n",
    "        elif escolha == '0':\n",
    "            break\n",
    "\n",
    "def listar_usuarios(usuarios):\n",
    "    console.print(Panel(\"Lista de Usuários\", expand=False))\n",
    "    for u in usuarios.values():\n",
    "        console.print(f\"Login: {u.login} | Tipo: {u.tipo}\")\n",
    "\n",
    "def buscar_usuario(usuarios):\n",
    "    login = Prompt.ask(\"Login do usuário\")\n",
    "    u = usuarios.get(login)\n",
    "    if u:\n",
    "        console.print(f\"Login: {u.login} | Tipo: {u.tipo}\")\n",
    "    else:\n",
    "        console.print(f\"[yellow]Usuário '{login}' não encontrado[/yellow]\")\n",
    "\n",
    "def cadastrar_usuario(usuarios):\n",
    "    console.print(Panel(\"Cadastrar Novo Usuário\", expand=False))\n",
    "    login = Prompt.ask(\"Login\")\n",
    "    if login in usuarios:\n",
    "        console.print(f\"[red]Usuário '{login}' já existe[/red]\")\n",
    "        return usuarios\n",
    "    senha = getpass(\"Senha: \")\n",
    "    tipo = Prompt.ask(\"Tipo (admin/tecnico/cliente)\", choices=[\"admin\",\"tecnico\",\"cliente\"])\n",
    "    usuarios[login] = Usuario(login, senha, tipo)\n",
    "    salvar_usuarios(usuarios)\n",
    "    console.print(f\"[green]Usuário '{login}' cadastrado com sucesso![/green]\")\n",
    "    return usuarios\n",
    "\n",
    "def editar_usuario(usuarios):\n",
    "    console.print(Panel(\"Editar Usuário\", expand=False))\n",
    "    login = Prompt.ask(\"Login do usuário a editar\")\n",
    "    u = usuarios.get(login)\n",
    "    if not u:\n",
    "        console.print(f\"[yellow]Usuário '{login}' não encontrado[/yellow]\")\n",
    "        return usuarios\n",
    "    senha = getpass(\"Nova senha (enter para manter atual): \")\n",
    "    tipo = Prompt.ask(\"Novo tipo (admin/tecnico/cliente) (enter para manter atual)\", choices=[\"admin\",\"tecnico\",\"cliente\",\"\"], default=\"\")\n",
    "    senha = senha if senha.strip() != '' else u.senha\n",
    "    tipo = tipo if tipo.strip() != '' else u.tipo\n",
    "    usuarios[login] = Usuario(login, senha, tipo)\n",
    "    salvar_usuarios(usuarios)\n",
    "    console.print(f\"[green]Usuário '{login}' atualizado com sucesso![/green]\")\n",
    "    return usuarios\n",
    "\n",
    "def remover_usuario(usuarios):\n",
    "    console.print(Panel(\"Remover Usuário\", expand=False))\n",
    "    login = Prompt.ask(\"Login do usuário a remover\")\n",
    "    if login in usuarios:\n",
    "        del usuarios[login]\n",
    "        salvar_usuarios(usuarios)\n",
    "        console.print(f\"[green]Usuário '{login}' removido com sucesso![/green]\")\n",
    "    else:\n",
    "        console.print(f\"[yellow]Usuário '{login}' não encontrado[/yellow]\")\n",
    "    return usuarios\n",
    "\n",
    "############################\n",
    "# Função principal para rodar o sistema\n",
    "def main():\n",
    "    criar_arquivos_iniciais()\n",
    "    usuarios = ler_usuarios()\n",
    "\n",
    "    while True:\n",
    "        console.print(Panel(\"Reparar Fogão - Menu Inicial\", expand=False))\n",
    "        console.print(\"1. Login\")\n",
    "        console.print(\"2. Cadastro (somente técnico)\")\n",
    "        console.print(\"3. Sair\")\n",
    "        escolha = Prompt.ask(\"Escolha\", choices=[\"1\",\"2\",\"3\"])\n",
    "\n",
    "        if escolha == '1':\n",
    "            if login(usuarios):\n",
    "                menu_principal()\n",
    "                usuarios = ler_usuarios()  # recarregar depois de alterações\n",
    "        elif escolha == '2':\n",
    "            # só técnico pode se cadastrar por aqui\n",
    "            login_novo = Prompt.ask(\"Escolha um login para técnico\")\n",
    "            if login_novo in usuarios:\n",
    "                console.print(f\"[red]Login '{login_novo}' já existe![/red]\")\n",
    "            else:\n",
    "                senha_nova = getpass(\"Senha: \")\n",
    "                usuarios[login_novo] = Usuario(login_novo, senha_nova, 'tecnico')\n",
    "                salvar_usuarios(usuarios)\n",
    "                console.print(f\"[green]Usuário técnico '{login_novo}' cadastrado com sucesso![/green]\")\n",
    "                usuarios = ler_usuarios()\n",
    "        elif escolha == '3':\n",
    "            console.print(\"[blue]Saindo do sistema. Até logo![/blue]\")\n",
    "            break\n",
    "\n",
    "if __name__ == \"__main__\":\n",
    "    main()"
   ]
  },
  {
   "cell_type": "code",
   "execution_count": null,
   "id": "6f0e7fca-a6d4-4916-8c67-f10cd2782292",
   "metadata": {},
   "outputs": [],
   "source": []
  }
 ],
 "metadata": {
  "kernelspec": {
   "display_name": "Python 3 (ipykernel)",
   "language": "python",
   "name": "python3"
  },
  "language_info": {
   "codemirror_mode": {
    "name": "ipython",
    "version": 3
   },
   "file_extension": ".py",
   "mimetype": "text/x-python",
   "name": "python",
   "nbconvert_exporter": "python",
   "pygments_lexer": "ipython3",
   "version": "3.13.5"
  }
 },
 "nbformat": 4,
 "nbformat_minor": 5
}
